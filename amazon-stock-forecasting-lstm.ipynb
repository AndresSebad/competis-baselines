{
 "cells": [
  {
   "cell_type": "code",
   "execution_count": 1,
   "id": "bbe7378f",
   "metadata": {
    "_cell_guid": "b1076dfc-b9ad-4769-8c92-a6c4dae69d19",
    "_uuid": "8f2839f25d086af736a60e9eeb907d3b93b6e0e5",
    "execution": {
     "iopub.execute_input": "2023-07-19T06:33:40.929847Z",
     "iopub.status.busy": "2023-07-19T06:33:40.929423Z",
     "iopub.status.idle": "2023-07-19T06:33:44.890911Z",
     "shell.execute_reply": "2023-07-19T06:33:44.889219Z"
    },
    "papermill": {
     "duration": 3.977834,
     "end_time": "2023-07-19T06:33:44.893953",
     "exception": false,
     "start_time": "2023-07-19T06:33:40.916119",
     "status": "completed"
    },
    "tags": []
   },
   "outputs": [],
   "source": [
    "import pandas as pd\n",
    "import numpy as np\n",
    "import matplotlib.pyplot as plt\n",
    "from pathlib import Path\n",
    "\n",
    "import torch\n",
    "import torch.nn as nn"
   ]
  },
  {
   "cell_type": "code",
   "execution_count": 2,
   "id": "2d4fbd11",
   "metadata": {
    "execution": {
     "iopub.execute_input": "2023-07-19T06:33:44.920848Z",
     "iopub.status.busy": "2023-07-19T06:33:44.919320Z",
     "iopub.status.idle": "2023-07-19T06:33:44.970733Z",
     "shell.execute_reply": "2023-07-19T06:33:44.969480Z"
    },
    "papermill": {
     "duration": 0.066479,
     "end_time": "2023-07-19T06:33:44.973748",
     "exception": false,
     "start_time": "2023-07-19T06:33:44.907269",
     "status": "completed"
    },
    "tags": []
   },
   "outputs": [],
   "source": [
    "path = Path('/kaggle/input/amazon-stock-data')\n",
    "data = pd.read_csv(path / 'AMZN.csv')"
   ]
  },
  {
   "cell_type": "code",
   "execution_count": 3,
   "id": "509add9c",
   "metadata": {
    "execution": {
     "iopub.execute_input": "2023-07-19T06:33:44.998307Z",
     "iopub.status.busy": "2023-07-19T06:33:44.997475Z",
     "iopub.status.idle": "2023-07-19T06:33:45.031922Z",
     "shell.execute_reply": "2023-07-19T06:33:45.030497Z"
    },
    "papermill": {
     "duration": 0.050163,
     "end_time": "2023-07-19T06:33:45.035248",
     "exception": false,
     "start_time": "2023-07-19T06:33:44.985085",
     "status": "completed"
    },
    "tags": []
   },
   "outputs": [
    {
     "data": {
      "text/html": [
       "<div>\n",
       "<style scoped>\n",
       "    .dataframe tbody tr th:only-of-type {\n",
       "        vertical-align: middle;\n",
       "    }\n",
       "\n",
       "    .dataframe tbody tr th {\n",
       "        vertical-align: top;\n",
       "    }\n",
       "\n",
       "    .dataframe thead th {\n",
       "        text-align: right;\n",
       "    }\n",
       "</style>\n",
       "<table border=\"1\" class=\"dataframe\">\n",
       "  <thead>\n",
       "    <tr style=\"text-align: right;\">\n",
       "      <th></th>\n",
       "      <th>Date</th>\n",
       "      <th>Open</th>\n",
       "      <th>High</th>\n",
       "      <th>Low</th>\n",
       "      <th>Close</th>\n",
       "      <th>Adj Close</th>\n",
       "      <th>Volume</th>\n",
       "    </tr>\n",
       "  </thead>\n",
       "  <tbody>\n",
       "    <tr>\n",
       "      <th>0</th>\n",
       "      <td>1997-05-15</td>\n",
       "      <td>2.437500</td>\n",
       "      <td>2.500000</td>\n",
       "      <td>1.927083</td>\n",
       "      <td>1.958333</td>\n",
       "      <td>1.958333</td>\n",
       "      <td>72156000</td>\n",
       "    </tr>\n",
       "    <tr>\n",
       "      <th>1</th>\n",
       "      <td>1997-05-16</td>\n",
       "      <td>1.968750</td>\n",
       "      <td>1.979167</td>\n",
       "      <td>1.708333</td>\n",
       "      <td>1.729167</td>\n",
       "      <td>1.729167</td>\n",
       "      <td>14700000</td>\n",
       "    </tr>\n",
       "    <tr>\n",
       "      <th>2</th>\n",
       "      <td>1997-05-19</td>\n",
       "      <td>1.760417</td>\n",
       "      <td>1.770833</td>\n",
       "      <td>1.625000</td>\n",
       "      <td>1.708333</td>\n",
       "      <td>1.708333</td>\n",
       "      <td>6106800</td>\n",
       "    </tr>\n",
       "    <tr>\n",
       "      <th>3</th>\n",
       "      <td>1997-05-20</td>\n",
       "      <td>1.729167</td>\n",
       "      <td>1.750000</td>\n",
       "      <td>1.635417</td>\n",
       "      <td>1.635417</td>\n",
       "      <td>1.635417</td>\n",
       "      <td>5467200</td>\n",
       "    </tr>\n",
       "    <tr>\n",
       "      <th>4</th>\n",
       "      <td>1997-05-21</td>\n",
       "      <td>1.635417</td>\n",
       "      <td>1.645833</td>\n",
       "      <td>1.375000</td>\n",
       "      <td>1.427083</td>\n",
       "      <td>1.427083</td>\n",
       "      <td>18853200</td>\n",
       "    </tr>\n",
       "    <tr>\n",
       "      <th>...</th>\n",
       "      <td>...</td>\n",
       "      <td>...</td>\n",
       "      <td>...</td>\n",
       "      <td>...</td>\n",
       "      <td>...</td>\n",
       "      <td>...</td>\n",
       "      <td>...</td>\n",
       "    </tr>\n",
       "    <tr>\n",
       "      <th>6252</th>\n",
       "      <td>2022-03-18</td>\n",
       "      <td>3136.260010</td>\n",
       "      <td>3231.879883</td>\n",
       "      <td>3120.219971</td>\n",
       "      <td>3225.010010</td>\n",
       "      <td>3225.010010</td>\n",
       "      <td>5141300</td>\n",
       "    </tr>\n",
       "    <tr>\n",
       "      <th>6253</th>\n",
       "      <td>2022-03-21</td>\n",
       "      <td>3222.419922</td>\n",
       "      <td>3261.679932</td>\n",
       "      <td>3191.060059</td>\n",
       "      <td>3229.830078</td>\n",
       "      <td>3229.830078</td>\n",
       "      <td>3326900</td>\n",
       "    </tr>\n",
       "    <tr>\n",
       "      <th>6254</th>\n",
       "      <td>2022-03-22</td>\n",
       "      <td>3236.110107</td>\n",
       "      <td>3323.340088</td>\n",
       "      <td>3233.979980</td>\n",
       "      <td>3297.780029</td>\n",
       "      <td>3297.780029</td>\n",
       "      <td>3204300</td>\n",
       "    </tr>\n",
       "    <tr>\n",
       "      <th>6255</th>\n",
       "      <td>2022-03-23</td>\n",
       "      <td>3274.100098</td>\n",
       "      <td>3327.399902</td>\n",
       "      <td>3253.739990</td>\n",
       "      <td>3268.159912</td>\n",
       "      <td>3268.159912</td>\n",
       "      <td>2790600</td>\n",
       "    </tr>\n",
       "    <tr>\n",
       "      <th>6256</th>\n",
       "      <td>2022-03-24</td>\n",
       "      <td>3274.989990</td>\n",
       "      <td>3282.370117</td>\n",
       "      <td>3201.000000</td>\n",
       "      <td>3272.989990</td>\n",
       "      <td>3272.989990</td>\n",
       "      <td>2834900</td>\n",
       "    </tr>\n",
       "  </tbody>\n",
       "</table>\n",
       "<p>6257 rows × 7 columns</p>\n",
       "</div>"
      ],
      "text/plain": [
       "            Date         Open         High          Low        Close  \\\n",
       "0     1997-05-15     2.437500     2.500000     1.927083     1.958333   \n",
       "1     1997-05-16     1.968750     1.979167     1.708333     1.729167   \n",
       "2     1997-05-19     1.760417     1.770833     1.625000     1.708333   \n",
       "3     1997-05-20     1.729167     1.750000     1.635417     1.635417   \n",
       "4     1997-05-21     1.635417     1.645833     1.375000     1.427083   \n",
       "...          ...          ...          ...          ...          ...   \n",
       "6252  2022-03-18  3136.260010  3231.879883  3120.219971  3225.010010   \n",
       "6253  2022-03-21  3222.419922  3261.679932  3191.060059  3229.830078   \n",
       "6254  2022-03-22  3236.110107  3323.340088  3233.979980  3297.780029   \n",
       "6255  2022-03-23  3274.100098  3327.399902  3253.739990  3268.159912   \n",
       "6256  2022-03-24  3274.989990  3282.370117  3201.000000  3272.989990   \n",
       "\n",
       "        Adj Close    Volume  \n",
       "0        1.958333  72156000  \n",
       "1        1.729167  14700000  \n",
       "2        1.708333   6106800  \n",
       "3        1.635417   5467200  \n",
       "4        1.427083  18853200  \n",
       "...           ...       ...  \n",
       "6252  3225.010010   5141300  \n",
       "6253  3229.830078   3326900  \n",
       "6254  3297.780029   3204300  \n",
       "6255  3268.159912   2790600  \n",
       "6256  3272.989990   2834900  \n",
       "\n",
       "[6257 rows x 7 columns]"
      ]
     },
     "execution_count": 3,
     "metadata": {},
     "output_type": "execute_result"
    }
   ],
   "source": [
    "data"
   ]
  },
  {
   "cell_type": "code",
   "execution_count": 4,
   "id": "f301be58",
   "metadata": {
    "execution": {
     "iopub.execute_input": "2023-07-19T06:33:45.058939Z",
     "iopub.status.busy": "2023-07-19T06:33:45.058552Z",
     "iopub.status.idle": "2023-07-19T06:33:45.078005Z",
     "shell.execute_reply": "2023-07-19T06:33:45.076687Z"
    },
    "papermill": {
     "duration": 0.034157,
     "end_time": "2023-07-19T06:33:45.080684",
     "exception": false,
     "start_time": "2023-07-19T06:33:45.046527",
     "status": "completed"
    },
    "tags": []
   },
   "outputs": [
    {
     "data": {
      "text/html": [
       "<div>\n",
       "<style scoped>\n",
       "    .dataframe tbody tr th:only-of-type {\n",
       "        vertical-align: middle;\n",
       "    }\n",
       "\n",
       "    .dataframe tbody tr th {\n",
       "        vertical-align: top;\n",
       "    }\n",
       "\n",
       "    .dataframe thead th {\n",
       "        text-align: right;\n",
       "    }\n",
       "</style>\n",
       "<table border=\"1\" class=\"dataframe\">\n",
       "  <thead>\n",
       "    <tr style=\"text-align: right;\">\n",
       "      <th></th>\n",
       "      <th>Date</th>\n",
       "      <th>Close</th>\n",
       "    </tr>\n",
       "  </thead>\n",
       "  <tbody>\n",
       "    <tr>\n",
       "      <th>0</th>\n",
       "      <td>1997-05-15</td>\n",
       "      <td>1.958333</td>\n",
       "    </tr>\n",
       "    <tr>\n",
       "      <th>1</th>\n",
       "      <td>1997-05-16</td>\n",
       "      <td>1.729167</td>\n",
       "    </tr>\n",
       "    <tr>\n",
       "      <th>2</th>\n",
       "      <td>1997-05-19</td>\n",
       "      <td>1.708333</td>\n",
       "    </tr>\n",
       "    <tr>\n",
       "      <th>3</th>\n",
       "      <td>1997-05-20</td>\n",
       "      <td>1.635417</td>\n",
       "    </tr>\n",
       "    <tr>\n",
       "      <th>4</th>\n",
       "      <td>1997-05-21</td>\n",
       "      <td>1.427083</td>\n",
       "    </tr>\n",
       "    <tr>\n",
       "      <th>...</th>\n",
       "      <td>...</td>\n",
       "      <td>...</td>\n",
       "    </tr>\n",
       "    <tr>\n",
       "      <th>6252</th>\n",
       "      <td>2022-03-18</td>\n",
       "      <td>3225.010010</td>\n",
       "    </tr>\n",
       "    <tr>\n",
       "      <th>6253</th>\n",
       "      <td>2022-03-21</td>\n",
       "      <td>3229.830078</td>\n",
       "    </tr>\n",
       "    <tr>\n",
       "      <th>6254</th>\n",
       "      <td>2022-03-22</td>\n",
       "      <td>3297.780029</td>\n",
       "    </tr>\n",
       "    <tr>\n",
       "      <th>6255</th>\n",
       "      <td>2022-03-23</td>\n",
       "      <td>3268.159912</td>\n",
       "    </tr>\n",
       "    <tr>\n",
       "      <th>6256</th>\n",
       "      <td>2022-03-24</td>\n",
       "      <td>3272.989990</td>\n",
       "    </tr>\n",
       "  </tbody>\n",
       "</table>\n",
       "<p>6257 rows × 2 columns</p>\n",
       "</div>"
      ],
      "text/plain": [
       "            Date        Close\n",
       "0     1997-05-15     1.958333\n",
       "1     1997-05-16     1.729167\n",
       "2     1997-05-19     1.708333\n",
       "3     1997-05-20     1.635417\n",
       "4     1997-05-21     1.427083\n",
       "...          ...          ...\n",
       "6252  2022-03-18  3225.010010\n",
       "6253  2022-03-21  3229.830078\n",
       "6254  2022-03-22  3297.780029\n",
       "6255  2022-03-23  3268.159912\n",
       "6256  2022-03-24  3272.989990\n",
       "\n",
       "[6257 rows x 2 columns]"
      ]
     },
     "execution_count": 4,
     "metadata": {},
     "output_type": "execute_result"
    }
   ],
   "source": [
    "data = data[['Date', 'Close']]\n",
    "data"
   ]
  },
  {
   "cell_type": "code",
   "execution_count": 5,
   "id": "d8457d1c",
   "metadata": {
    "execution": {
     "iopub.execute_input": "2023-07-19T06:33:45.106962Z",
     "iopub.status.busy": "2023-07-19T06:33:45.106012Z",
     "iopub.status.idle": "2023-07-19T06:33:45.111862Z",
     "shell.execute_reply": "2023-07-19T06:33:45.110889Z"
    },
    "papermill": {
     "duration": 0.021319,
     "end_time": "2023-07-19T06:33:45.114661",
     "exception": false,
     "start_time": "2023-07-19T06:33:45.093342",
     "status": "completed"
    },
    "tags": []
   },
   "outputs": [],
   "source": [
    "device = 'cuda' if torch.cuda.is_available() else 'cpu' # Por si quieren ocupar GPU"
   ]
  },
  {
   "cell_type": "code",
   "execution_count": 6,
   "id": "d53812be",
   "metadata": {
    "execution": {
     "iopub.execute_input": "2023-07-19T06:33:45.139967Z",
     "iopub.status.busy": "2023-07-19T06:33:45.139087Z",
     "iopub.status.idle": "2023-07-19T06:33:45.148815Z",
     "shell.execute_reply": "2023-07-19T06:33:45.147566Z"
    },
    "papermill": {
     "duration": 0.024812,
     "end_time": "2023-07-19T06:33:45.151296",
     "exception": false,
     "start_time": "2023-07-19T06:33:45.126484",
     "status": "completed"
    },
    "tags": []
   },
   "outputs": [
    {
     "data": {
      "text/plain": [
       "0       1997-05-15\n",
       "1       1997-05-16\n",
       "2       1997-05-19\n",
       "3       1997-05-20\n",
       "4       1997-05-21\n",
       "           ...    \n",
       "6252    2022-03-18\n",
       "6253    2022-03-21\n",
       "6254    2022-03-22\n",
       "6255    2022-03-23\n",
       "6256    2022-03-24\n",
       "Name: Date, Length: 6257, dtype: object"
      ]
     },
     "execution_count": 6,
     "metadata": {},
     "output_type": "execute_result"
    }
   ],
   "source": [
    "data.loc[:,'Date']"
   ]
  },
  {
   "cell_type": "code",
   "execution_count": 7,
   "id": "de9ff103",
   "metadata": {
    "execution": {
     "iopub.execute_input": "2023-07-19T06:33:45.177404Z",
     "iopub.status.busy": "2023-07-19T06:33:45.176671Z",
     "iopub.status.idle": "2023-07-19T06:33:45.621312Z",
     "shell.execute_reply": "2023-07-19T06:33:45.620093Z"
    },
    "papermill": {
     "duration": 0.460434,
     "end_time": "2023-07-19T06:33:45.623931",
     "exception": false,
     "start_time": "2023-07-19T06:33:45.163497",
     "status": "completed"
    },
    "tags": []
   },
   "outputs": [
    {
     "name": "stderr",
     "output_type": "stream",
     "text": [
      "/tmp/ipykernel_20/3446710840.py:1: SettingWithCopyWarning: \n",
      "A value is trying to be set on a copy of a slice from a DataFrame.\n",
      "Try using .loc[row_indexer,col_indexer] = value instead\n",
      "\n",
      "See the caveats in the documentation: https://pandas.pydata.org/pandas-docs/stable/user_guide/indexing.html#returning-a-view-versus-a-copy\n",
      "  data.loc[:, 'Date'] = pd.to_datetime(data['Date'])\n",
      "/tmp/ipykernel_20/3446710840.py:1: DeprecationWarning: In a future version, `df.iloc[:, i] = newvals` will attempt to set the values inplace instead of always setting a new array. To retain the old behavior, use either `df[df.columns[i]] = newvals` or, if columns are non-unique, `df.isetitem(i, newvals)`\n",
      "  data.loc[:, 'Date'] = pd.to_datetime(data['Date'])\n"
     ]
    },
    {
     "data": {
      "text/plain": [
       "[<matplotlib.lines.Line2D at 0x79b7d622dba0>]"
      ]
     },
     "execution_count": 7,
     "metadata": {},
     "output_type": "execute_result"
    },
    {
     "data": {
      "image/png": "[encoded data removed]",
      "text/plain": [
       "<Figure size 640x480 with 1 Axes>"
      ]
     },
     "metadata": {},
     "output_type": "display_data"
    }
   ],
   "source": [
    "data.loc[:, 'Date'] = pd.to_datetime(data['Date'])\n",
    "plt.plot(data['Date'], data['Close'])"
   ]
  },
  {
   "cell_type": "code",
   "execution_count": 8,
   "id": "c0a4b4a9",
   "metadata": {
    "execution": {
     "iopub.execute_input": "2023-07-19T06:33:45.650157Z",
     "iopub.status.busy": "2023-07-19T06:33:45.649719Z",
     "iopub.status.idle": "2023-07-19T06:33:45.697355Z",
     "shell.execute_reply": "2023-07-19T06:33:45.695947Z"
    },
    "papermill": {
     "duration": 0.064358,
     "end_time": "2023-07-19T06:33:45.700288",
     "exception": false,
     "start_time": "2023-07-19T06:33:45.635930",
     "status": "completed"
    },
    "tags": []
   },
   "outputs": [
    {
     "data": {
      "text/html": [
       "<div>\n",
       "<style scoped>\n",
       "    .dataframe tbody tr th:only-of-type {\n",
       "        vertical-align: middle;\n",
       "    }\n",
       "\n",
       "    .dataframe tbody tr th {\n",
       "        vertical-align: top;\n",
       "    }\n",
       "\n",
       "    .dataframe thead th {\n",
       "        text-align: right;\n",
       "    }\n",
       "</style>\n",
       "<table border=\"1\" class=\"dataframe\">\n",
       "  <thead>\n",
       "    <tr style=\"text-align: right;\">\n",
       "      <th></th>\n",
       "      <th>Close</th>\n",
       "      <th>Close(t-1)</th>\n",
       "      <th>Close(t-2)</th>\n",
       "      <th>Close(t-3)</th>\n",
       "      <th>Close(t-4)</th>\n",
       "      <th>Close(t-5)</th>\n",
       "      <th>Close(t-6)</th>\n",
       "      <th>Close(t-7)</th>\n",
       "    </tr>\n",
       "    <tr>\n",
       "      <th>Date</th>\n",
       "      <th></th>\n",
       "      <th></th>\n",
       "      <th></th>\n",
       "      <th></th>\n",
       "      <th></th>\n",
       "      <th></th>\n",
       "      <th></th>\n",
       "      <th></th>\n",
       "    </tr>\n",
       "  </thead>\n",
       "  <tbody>\n",
       "    <tr>\n",
       "      <th>1997-05-27</th>\n",
       "      <td>1.583333</td>\n",
       "      <td>1.500000</td>\n",
       "      <td>1.395833</td>\n",
       "      <td>1.427083</td>\n",
       "      <td>1.635417</td>\n",
       "      <td>1.708333</td>\n",
       "      <td>1.729167</td>\n",
       "      <td>1.958333</td>\n",
       "    </tr>\n",
       "    <tr>\n",
       "      <th>1997-05-28</th>\n",
       "      <td>1.531250</td>\n",
       "      <td>1.583333</td>\n",
       "      <td>1.500000</td>\n",
       "      <td>1.395833</td>\n",
       "      <td>1.427083</td>\n",
       "      <td>1.635417</td>\n",
       "      <td>1.708333</td>\n",
       "      <td>1.729167</td>\n",
       "    </tr>\n",
       "    <tr>\n",
       "      <th>1997-05-29</th>\n",
       "      <td>1.505208</td>\n",
       "      <td>1.531250</td>\n",
       "      <td>1.583333</td>\n",
       "      <td>1.500000</td>\n",
       "      <td>1.395833</td>\n",
       "      <td>1.427083</td>\n",
       "      <td>1.635417</td>\n",
       "      <td>1.708333</td>\n",
       "    </tr>\n",
       "    <tr>\n",
       "      <th>1997-05-30</th>\n",
       "      <td>1.500000</td>\n",
       "      <td>1.505208</td>\n",
       "      <td>1.531250</td>\n",
       "      <td>1.583333</td>\n",
       "      <td>1.500000</td>\n",
       "      <td>1.395833</td>\n",
       "      <td>1.427083</td>\n",
       "      <td>1.635417</td>\n",
       "    </tr>\n",
       "    <tr>\n",
       "      <th>1997-06-02</th>\n",
       "      <td>1.510417</td>\n",
       "      <td>1.500000</td>\n",
       "      <td>1.505208</td>\n",
       "      <td>1.531250</td>\n",
       "      <td>1.583333</td>\n",
       "      <td>1.500000</td>\n",
       "      <td>1.395833</td>\n",
       "      <td>1.427083</td>\n",
       "    </tr>\n",
       "    <tr>\n",
       "      <th>...</th>\n",
       "      <td>...</td>\n",
       "      <td>...</td>\n",
       "      <td>...</td>\n",
       "      <td>...</td>\n",
       "      <td>...</td>\n",
       "      <td>...</td>\n",
       "      <td>...</td>\n",
       "      <td>...</td>\n",
       "    </tr>\n",
       "    <tr>\n",
       "      <th>2022-03-18</th>\n",
       "      <td>3225.010010</td>\n",
       "      <td>3144.780029</td>\n",
       "      <td>3062.080078</td>\n",
       "      <td>2947.330078</td>\n",
       "      <td>2837.060059</td>\n",
       "      <td>2910.489990</td>\n",
       "      <td>2936.350098</td>\n",
       "      <td>2785.580078</td>\n",
       "    </tr>\n",
       "    <tr>\n",
       "      <th>2022-03-21</th>\n",
       "      <td>3229.830078</td>\n",
       "      <td>3225.010010</td>\n",
       "      <td>3144.780029</td>\n",
       "      <td>3062.080078</td>\n",
       "      <td>2947.330078</td>\n",
       "      <td>2837.060059</td>\n",
       "      <td>2910.489990</td>\n",
       "      <td>2936.350098</td>\n",
       "    </tr>\n",
       "    <tr>\n",
       "      <th>2022-03-22</th>\n",
       "      <td>3297.780029</td>\n",
       "      <td>3229.830078</td>\n",
       "      <td>3225.010010</td>\n",
       "      <td>3144.780029</td>\n",
       "      <td>3062.080078</td>\n",
       "      <td>2947.330078</td>\n",
       "      <td>2837.060059</td>\n",
       "      <td>2910.489990</td>\n",
       "    </tr>\n",
       "    <tr>\n",
       "      <th>2022-03-23</th>\n",
       "      <td>3268.159912</td>\n",
       "      <td>3297.780029</td>\n",
       "      <td>3229.830078</td>\n",
       "      <td>3225.010010</td>\n",
       "      <td>3144.780029</td>\n",
       "      <td>3062.080078</td>\n",
       "      <td>2947.330078</td>\n",
       "      <td>2837.060059</td>\n",
       "    </tr>\n",
       "    <tr>\n",
       "      <th>2022-03-24</th>\n",
       "      <td>3272.989990</td>\n",
       "      <td>3268.159912</td>\n",
       "      <td>3297.780029</td>\n",
       "      <td>3229.830078</td>\n",
       "      <td>3225.010010</td>\n",
       "      <td>3144.780029</td>\n",
       "      <td>3062.080078</td>\n",
       "      <td>2947.330078</td>\n",
       "    </tr>\n",
       "  </tbody>\n",
       "</table>\n",
       "<p>6250 rows × 8 columns</p>\n",
       "</div>"
      ],
      "text/plain": [
       "                  Close   Close(t-1)   Close(t-2)   Close(t-3)   Close(t-4)  \\\n",
       "Date                                                                          \n",
       "1997-05-27     1.583333     1.500000     1.395833     1.427083     1.635417   \n",
       "1997-05-28     1.531250     1.583333     1.500000     1.395833     1.427083   \n",
       "1997-05-29     1.505208     1.531250     1.583333     1.500000     1.395833   \n",
       "1997-05-30     1.500000     1.505208     1.531250     1.583333     1.500000   \n",
       "1997-06-02     1.510417     1.500000     1.505208     1.531250     1.583333   \n",
       "...                 ...          ...          ...          ...          ...   \n",
       "2022-03-18  3225.010010  3144.780029  3062.080078  2947.330078  2837.060059   \n",
       "2022-03-21  3229.830078  3225.010010  3144.780029  3062.080078  2947.330078   \n",
       "2022-03-22  3297.780029  3229.830078  3225.010010  3144.780029  3062.080078   \n",
       "2022-03-23  3268.159912  3297.780029  3229.830078  3225.010010  3144.780029   \n",
       "2022-03-24  3272.989990  3268.159912  3297.780029  3229.830078  3225.010010   \n",
       "\n",
       "             Close(t-5)   Close(t-6)   Close(t-7)  \n",
       "Date                                               \n",
       "1997-05-27     1.708333     1.729167     1.958333  \n",
       "1997-05-28     1.635417     1.708333     1.729167  \n",
       "1997-05-29     1.427083     1.635417     1.708333  \n",
       "1997-05-30     1.395833     1.427083     1.635417  \n",
       "1997-06-02     1.500000     1.395833     1.427083  \n",
       "...                 ...          ...          ...  \n",
       "2022-03-18  2910.489990  2936.350098  2785.580078  \n",
       "2022-03-21  2837.060059  2910.489990  2936.350098  \n",
       "2022-03-22  2947.330078  2837.060059  2910.489990  \n",
       "2022-03-23  3062.080078  2947.330078  2837.060059  \n",
       "2022-03-24  3144.780029  3062.080078  2947.330078  \n",
       "\n",
       "[6250 rows x 8 columns]"
      ]
     },
     "execution_count": 8,
     "metadata": {},
     "output_type": "execute_result"
    }
   ],
   "source": [
    "from copy import deepcopy as dc\n",
    "\n",
    "def prepare_dataframe_for_lstm(df, n_steps):\n",
    "    df = dc(df)\n",
    "    df['Date'] = pd.to_datetime(df['Date'])\n",
    "    \n",
    "    df.set_index('Date', inplace = True)\n",
    "    \n",
    "    for i in range(1, n_steps + 1): # Construimos los rezagos para cada fecha\n",
    "        df[f'Close(t-{i})'] = df['Close'].shift(i) # i = 1, primer rezago\n",
    "        \n",
    "    df.dropna(inplace = True) # Borramos los valores nulos que se generaron\n",
    "    \n",
    "    return df\n",
    "\n",
    "lookback = 7 # 7 Rezagos\n",
    "shifted_df = prepare_dataframe_for_lstm(data, lookback)\n",
    "shifted_df\n",
    "# Con la res buscamos predecir el valor de close en base a sus valores anteriores (rezagos)"
   ]
  },
  {
   "cell_type": "code",
   "execution_count": 9,
   "id": "65b40ba9",
   "metadata": {
    "execution": {
     "iopub.execute_input": "2023-07-19T06:33:45.727953Z",
     "iopub.status.busy": "2023-07-19T06:33:45.727525Z",
     "iopub.status.idle": "2023-07-19T06:33:45.732911Z",
     "shell.execute_reply": "2023-07-19T06:33:45.731992Z"
    },
    "papermill": {
     "duration": 0.02223,
     "end_time": "2023-07-19T06:33:45.735475",
     "exception": false,
     "start_time": "2023-07-19T06:33:45.713245",
     "status": "completed"
    },
    "tags": []
   },
   "outputs": [],
   "source": [
    "shifted_df_as_np = shifted_df.to_numpy()"
   ]
  },
  {
   "cell_type": "code",
   "execution_count": 10,
   "id": "ddcec760",
   "metadata": {
    "execution": {
     "iopub.execute_input": "2023-07-19T06:33:45.762611Z",
     "iopub.status.busy": "2023-07-19T06:33:45.761871Z",
     "iopub.status.idle": "2023-07-19T06:33:46.795982Z",
     "shell.execute_reply": "2023-07-19T06:33:46.794814Z"
    },
    "papermill": {
     "duration": 1.050704,
     "end_time": "2023-07-19T06:33:46.798553",
     "exception": false,
     "start_time": "2023-07-19T06:33:45.747849",
     "status": "completed"
    },
    "tags": []
   },
   "outputs": [
    {
     "name": "stderr",
     "output_type": "stream",
     "text": [
      "/opt/conda/lib/python3.10/site-packages/scipy/__init__.py:146: UserWarning: A NumPy version >=1.16.5 and <1.23.0 is required for this version of SciPy (detected version 1.23.5\n",
      "  warnings.warn(f\"A NumPy version >={np_minversion} and <{np_maxversion}\"\n"
     ]
    },
    {
     "data": {
      "text/plain": [
       "array([[-0.99991063, -0.99995532, -1.        , ..., -0.99983244,\n",
       "        -0.99982127, -0.99969839],\n",
       "       [-0.99993856, -0.99991063, -0.99994415, ..., -0.99987154,\n",
       "        -0.99983244, -0.99982127],\n",
       "       [-0.99995252, -0.99993856, -0.99989946, ..., -0.99998324,\n",
       "        -0.99987154, -0.99983244],\n",
       "       ...,\n",
       "       [ 0.76749026,  0.7310559 ,  0.72847293, ...,  0.57958345,\n",
       "         0.52045765,  0.55983012],\n",
       "       [ 0.75160813,  0.76749026,  0.7310574 , ...,  0.64111136,\n",
       "         0.57958345,  0.52045765],\n",
       "       [ 0.75419799,  0.75160813,  0.76749156, ...,  0.68545433,\n",
       "         0.64111136,  0.57958345]])"
      ]
     },
     "execution_count": 10,
     "metadata": {},
     "output_type": "execute_result"
    }
   ],
   "source": [
    "from sklearn.preprocessing import MinMaxScaler\n",
    "\n",
    "scaler = MinMaxScaler(feature_range=(-1, 1))\n",
    "shifted_df_as_np = scaler.fit_transform(shifted_df_as_np)\n",
    "\n",
    "shifted_df_as_np # Esacalmos los valores para que esten entre -1 y 1"
   ]
  },
  {
   "cell_type": "code",
   "execution_count": 11,
   "id": "d2033d53",
   "metadata": {
    "execution": {
     "iopub.execute_input": "2023-07-19T06:33:46.826240Z",
     "iopub.status.busy": "2023-07-19T06:33:46.825600Z",
     "iopub.status.idle": "2023-07-19T06:33:46.833033Z",
     "shell.execute_reply": "2023-07-19T06:33:46.832218Z"
    },
    "papermill": {
     "duration": 0.023707,
     "end_time": "2023-07-19T06:33:46.835246",
     "exception": false,
     "start_time": "2023-07-19T06:33:46.811539",
     "status": "completed"
    },
    "tags": []
   },
   "outputs": [
    {
     "data": {
      "text/plain": [
       "((6250, 7), (6250,))"
      ]
     },
     "execution_count": 11,
     "metadata": {},
     "output_type": "execute_result"
    }
   ],
   "source": [
    "X = shifted_df_as_np[:, 1:]\n",
    "y = shifted_df_as_np[:, 0]\n",
    "\n",
    "X.shape, y.shape"
   ]
  },
  {
   "cell_type": "code",
   "execution_count": 12,
   "id": "e33f06ab",
   "metadata": {
    "execution": {
     "iopub.execute_input": "2023-07-19T06:33:46.863277Z",
     "iopub.status.busy": "2023-07-19T06:33:46.862098Z",
     "iopub.status.idle": "2023-07-19T06:33:46.870501Z",
     "shell.execute_reply": "2023-07-19T06:33:46.869332Z"
    },
    "papermill": {
     "duration": 0.02506,
     "end_time": "2023-07-19T06:33:46.873070",
     "exception": false,
     "start_time": "2023-07-19T06:33:46.848010",
     "status": "completed"
    },
    "tags": []
   },
   "outputs": [
    {
     "data": {
      "text/plain": [
       "array([[-0.99969839, -0.99982127, -0.99983244, ..., -0.99998324,\n",
       "        -1.        , -0.99995532],\n",
       "       [-0.99982127, -0.99983244, -0.99987154, ..., -1.        ,\n",
       "        -0.99994415, -0.99991063],\n",
       "       [-0.99983244, -0.99987154, -0.99998324, ..., -0.99994415,\n",
       "        -0.99989946, -0.99993856],\n",
       "       ...,\n",
       "       [ 0.55983012,  0.52045765,  0.57958345, ...,  0.68545433,\n",
       "         0.72847293,  0.7310559 ],\n",
       "       [ 0.52045765,  0.57958345,  0.64111136, ...,  0.72847293,\n",
       "         0.7310574 ,  0.76749026],\n",
       "       [ 0.57958345,  0.64111136,  0.68545433, ...,  0.7310574 ,\n",
       "         0.76749156,  0.75160813]])"
      ]
     },
     "execution_count": 12,
     "metadata": {},
     "output_type": "execute_result"
    }
   ],
   "source": [
    "X = dc(np.flip(X, axis = 1)) # Rezago 7 será la primera columna\n",
    "X"
   ]
  },
  {
   "cell_type": "code",
   "execution_count": 13,
   "id": "8e0049b5",
   "metadata": {
    "execution": {
     "iopub.execute_input": "2023-07-19T06:33:46.901710Z",
     "iopub.status.busy": "2023-07-19T06:33:46.901214Z",
     "iopub.status.idle": "2023-07-19T06:33:46.909694Z",
     "shell.execute_reply": "2023-07-19T06:33:46.908301Z"
    },
    "papermill": {
     "duration": 0.02541,
     "end_time": "2023-07-19T06:33:46.912197",
     "exception": false,
     "start_time": "2023-07-19T06:33:46.886787",
     "status": "completed"
    },
    "tags": []
   },
   "outputs": [
    {
     "data": {
      "text/plain": [
       "5937"
      ]
     },
     "execution_count": 13,
     "metadata": {},
     "output_type": "execute_result"
    }
   ],
   "source": [
    "split_index = int(len(X) * 0.95) # Index para train set\n",
    "\n",
    "split_index"
   ]
  },
  {
   "cell_type": "code",
   "execution_count": 14,
   "id": "814485e1",
   "metadata": {
    "execution": {
     "iopub.execute_input": "2023-07-19T06:33:46.941064Z",
     "iopub.status.busy": "2023-07-19T06:33:46.940638Z",
     "iopub.status.idle": "2023-07-19T06:33:46.948524Z",
     "shell.execute_reply": "2023-07-19T06:33:46.947527Z"
    },
    "papermill": {
     "duration": 0.024847,
     "end_time": "2023-07-19T06:33:46.950807",
     "exception": false,
     "start_time": "2023-07-19T06:33:46.925960",
     "status": "completed"
    },
    "tags": []
   },
   "outputs": [
    {
     "data": {
      "text/plain": [
       "((5937, 7), (313, 7), (5937,), (313,))"
      ]
     },
     "execution_count": 14,
     "metadata": {},
     "output_type": "execute_result"
    }
   ],
   "source": [
    "X_train = X[:split_index]\n",
    "X_test = X[split_index:]\n",
    "\n",
    "y_train = y[:split_index]\n",
    "y_test = y[split_index:]\n",
    "\n",
    "X_train.shape, X_test.shape, y_train.shape, y_test.shape"
   ]
  },
  {
   "cell_type": "code",
   "execution_count": 15,
   "id": "80f32a8d",
   "metadata": {
    "execution": {
     "iopub.execute_input": "2023-07-19T06:33:46.980543Z",
     "iopub.status.busy": "2023-07-19T06:33:46.979203Z",
     "iopub.status.idle": "2023-07-19T06:33:46.986549Z",
     "shell.execute_reply": "2023-07-19T06:33:46.985278Z"
    },
    "papermill": {
     "duration": 0.024928,
     "end_time": "2023-07-19T06:33:46.989317",
     "exception": false,
     "start_time": "2023-07-19T06:33:46.964389",
     "status": "completed"
    },
    "tags": []
   },
   "outputs": [],
   "source": [
    "# Necesitamos una dimensión adicional para pytorch\n",
    "X_train = X_train.reshape((-1, lookback, 1))\n",
    "X_test = X_test.reshape((-1, lookback, 1))\n",
    "\n",
    "y_train = y_train.reshape((-1, 1))\n",
    "y_test = y_test.reshape((-1, 1))"
   ]
  },
  {
   "cell_type": "code",
   "execution_count": 16,
   "id": "648d11b9",
   "metadata": {
    "execution": {
     "iopub.execute_input": "2023-07-19T06:33:47.017720Z",
     "iopub.status.busy": "2023-07-19T06:33:47.017293Z",
     "iopub.status.idle": "2023-07-19T06:33:47.075045Z",
     "shell.execute_reply": "2023-07-19T06:33:47.073784Z"
    },
    "papermill": {
     "duration": 0.075569,
     "end_time": "2023-07-19T06:33:47.078090",
     "exception": false,
     "start_time": "2023-07-19T06:33:47.002521",
     "status": "completed"
    },
    "tags": []
   },
   "outputs": [],
   "source": [
    "X_train = torch.tensor(X_train).float()\n",
    "y_train = torch.tensor(y_train).float()\n",
    "X_test = torch.tensor(X_test).float()\n",
    "y_test = torch.tensor(y_test).float()"
   ]
  },
  {
   "cell_type": "code",
   "execution_count": 17,
   "id": "a1f9d7a0",
   "metadata": {
    "execution": {
     "iopub.execute_input": "2023-07-19T06:33:47.107950Z",
     "iopub.status.busy": "2023-07-19T06:33:47.107515Z",
     "iopub.status.idle": "2023-07-19T06:33:47.114812Z",
     "shell.execute_reply": "2023-07-19T06:33:47.113579Z"
    },
    "papermill": {
     "duration": 0.025195,
     "end_time": "2023-07-19T06:33:47.117137",
     "exception": false,
     "start_time": "2023-07-19T06:33:47.091942",
     "status": "completed"
    },
    "tags": []
   },
   "outputs": [],
   "source": [
    "from torch.utils.data import Dataset\n",
    "\n",
    "class TimeSeriesData(Dataset):\n",
    "    def __init__(self, X, y):\n",
    "        self.X = X\n",
    "        self.y = y\n",
    "        \n",
    "    def __len__(self):\n",
    "        return len(self.X)\n",
    "    \n",
    "    def __getitem__(self, ix):\n",
    "        return self.X[ix], self.y[ix]"
   ]
  },
  {
   "cell_type": "code",
   "execution_count": 18,
   "id": "d978e75c",
   "metadata": {
    "execution": {
     "iopub.execute_input": "2023-07-19T06:33:47.146333Z",
     "iopub.status.busy": "2023-07-19T06:33:47.145452Z",
     "iopub.status.idle": "2023-07-19T06:33:47.151106Z",
     "shell.execute_reply": "2023-07-19T06:33:47.150127Z"
    },
    "papermill": {
     "duration": 0.023443,
     "end_time": "2023-07-19T06:33:47.153829",
     "exception": false,
     "start_time": "2023-07-19T06:33:47.130386",
     "status": "completed"
    },
    "tags": []
   },
   "outputs": [],
   "source": [
    "train_dataset = TimeSeriesData(X_train, y_train)\n",
    "test_dataset = TimeSeriesData(X_test, y_test)"
   ]
  },
  {
   "cell_type": "code",
   "execution_count": 19,
   "id": "a7c1c073",
   "metadata": {
    "execution": {
     "iopub.execute_input": "2023-07-19T06:33:47.184159Z",
     "iopub.status.busy": "2023-07-19T06:33:47.183733Z",
     "iopub.status.idle": "2023-07-19T06:33:47.190754Z",
     "shell.execute_reply": "2023-07-19T06:33:47.189657Z"
    },
    "papermill": {
     "duration": 0.024774,
     "end_time": "2023-07-19T06:33:47.193165",
     "exception": false,
     "start_time": "2023-07-19T06:33:47.168391",
     "status": "completed"
    },
    "tags": []
   },
   "outputs": [],
   "source": [
    "from torch.utils.data import DataLoader\n",
    "\n",
    "batch_size = 16\n",
    "\n",
    "train_loader = DataLoader(train_dataset, batch_size = batch_size, shuffle = True)\n",
    "test_loader = DataLoader(test_dataset, batch_size = batch_size, shuffle = False)"
   ]
  },
  {
   "cell_type": "code",
   "execution_count": 20,
   "id": "84ce1142",
   "metadata": {
    "execution": {
     "iopub.execute_input": "2023-07-19T06:33:47.221726Z",
     "iopub.status.busy": "2023-07-19T06:33:47.221280Z",
     "iopub.status.idle": "2023-07-19T06:33:47.277917Z",
     "shell.execute_reply": "2023-07-19T06:33:47.276340Z"
    },
    "papermill": {
     "duration": 0.07389,
     "end_time": "2023-07-19T06:33:47.280592",
     "exception": false,
     "start_time": "2023-07-19T06:33:47.206702",
     "status": "completed"
    },
    "tags": []
   },
   "outputs": [
    {
     "name": "stdout",
     "output_type": "stream",
     "text": [
      "torch.Size([16, 7, 1]) torch.Size([16, 1])\n"
     ]
    }
   ],
   "source": [
    "for _, batch in enumerate(train_loader):\n",
    "    x_batch, y_batch = batch[0].to(device), batch[1].to(device)\n",
    "    print(x_batch.shape, y_batch.shape)\n",
    "    break"
   ]
  },
  {
   "cell_type": "code",
   "execution_count": 21,
   "id": "0a9b248f",
   "metadata": {
    "execution": {
     "iopub.execute_input": "2023-07-19T06:33:47.309806Z",
     "iopub.status.busy": "2023-07-19T06:33:47.309360Z",
     "iopub.status.idle": "2023-07-19T06:33:47.327655Z",
     "shell.execute_reply": "2023-07-19T06:33:47.326455Z"
    },
    "papermill": {
     "duration": 0.036559,
     "end_time": "2023-07-19T06:33:47.330261",
     "exception": false,
     "start_time": "2023-07-19T06:33:47.293702",
     "status": "completed"
    },
    "tags": []
   },
   "outputs": [
    {
     "data": {
      "text/plain": [
       "LSTM(\n",
       "  (lstm): LSTM(1, 4, batch_first=True)\n",
       "  (fc): Linear(in_features=4, out_features=1, bias=True)\n",
       ")"
      ]
     },
     "execution_count": 21,
     "metadata": {},
     "output_type": "execute_result"
    }
   ],
   "source": [
    "class LSTM(nn.Module):\n",
    "    def __init__(self, input_size, hidden_size, num_stacked_layers):\n",
    "        super().__init__()\n",
    "        self.hidden_size = hidden_size\n",
    "        self.num_stacked_layers = num_stacked_layers\n",
    "\n",
    "        self.lstm = nn.LSTM(input_size, hidden_size, num_stacked_layers, \n",
    "                            batch_first=True)\n",
    "        \n",
    "        self.fc = nn.Linear(hidden_size, 1)\n",
    "\n",
    "    def forward(self, x):\n",
    "        batch_size = x.size(0)\n",
    "        h0 = torch.zeros(self.num_stacked_layers, batch_size, self.hidden_size).to(device)\n",
    "        c0 = torch.zeros(self.num_stacked_layers, batch_size, self.hidden_size).to(device)\n",
    "        \n",
    "        out, _ = self.lstm(x, (h0, c0))\n",
    "        out = self.fc(out[:, -1, :])\n",
    "        return out\n",
    "\n",
    "model = LSTM(1, 4, 1)\n",
    "model.to(device)\n",
    "model"
   ]
  },
  {
   "cell_type": "code",
   "execution_count": 22,
   "id": "2f5f2974",
   "metadata": {
    "execution": {
     "iopub.execute_input": "2023-07-19T06:33:47.359457Z",
     "iopub.status.busy": "2023-07-19T06:33:47.359014Z",
     "iopub.status.idle": "2023-07-19T06:33:47.367426Z",
     "shell.execute_reply": "2023-07-19T06:33:47.366305Z"
    },
    "papermill": {
     "duration": 0.026008,
     "end_time": "2023-07-19T06:33:47.369779",
     "exception": false,
     "start_time": "2023-07-19T06:33:47.343771",
     "status": "completed"
    },
    "tags": []
   },
   "outputs": [],
   "source": [
    "def train_one_epoch():\n",
    "    model.train(True)\n",
    "    print(f'Epoch: {epoch + 1}')\n",
    "    running_loss = 0.0\n",
    "    \n",
    "    for batch_index, batch in enumerate(train_loader):\n",
    "        x_batch, y_batch = batch[0].to(device), batch[1].to(device)\n",
    "        \n",
    "        output = model(x_batch)\n",
    "        loss = loss_function(output, y_batch)\n",
    "        running_loss += loss.item()\n",
    "        \n",
    "        optimizer.zero_grad()\n",
    "        loss.backward()\n",
    "        optimizer.step()\n",
    "\n",
    "        if batch_index % 100 == 99:  # print every 100 batches\n",
    "            avg_loss_across_batches = running_loss / 100\n",
    "            print('Batch {0}, Loss: {1:.3f}'.format(batch_index+1,\n",
    "                                                    avg_loss_across_batches))\n",
    "            running_loss = 0.0\n",
    "    print()"
   ]
  },
  {
   "cell_type": "code",
   "execution_count": 23,
   "id": "45bb69d7",
   "metadata": {
    "execution": {
     "iopub.execute_input": "2023-07-19T06:33:47.399397Z",
     "iopub.status.busy": "2023-07-19T06:33:47.398927Z",
     "iopub.status.idle": "2023-07-19T06:33:47.407137Z",
     "shell.execute_reply": "2023-07-19T06:33:47.405936Z"
    },
    "papermill": {
     "duration": 0.026196,
     "end_time": "2023-07-19T06:33:47.409653",
     "exception": false,
     "start_time": "2023-07-19T06:33:47.383457",
     "status": "completed"
    },
    "tags": []
   },
   "outputs": [],
   "source": [
    "def validate_one_epoch():\n",
    "    model.train(False)\n",
    "    running_loss = 0.0\n",
    "    \n",
    "    for batch_index, batch in enumerate(test_loader):\n",
    "        x_batch, y_batch = batch[0].to(device), batch[1].to(device)\n",
    "        \n",
    "        with torch.no_grad():\n",
    "            output = model(x_batch)\n",
    "            loss = loss_function(output, y_batch)\n",
    "            running_loss += loss.item()\n",
    "\n",
    "    avg_loss_across_batches = running_loss / len(test_loader)\n",
    "    \n",
    "    print('Val Loss: {0:.3f}'.format(avg_loss_across_batches))\n",
    "    print('***************************************************')\n",
    "    print()"
   ]
  },
  {
   "cell_type": "code",
   "execution_count": 24,
   "id": "e26c537d",
   "metadata": {
    "execution": {
     "iopub.execute_input": "2023-07-19T06:33:47.439504Z",
     "iopub.status.busy": "2023-07-19T06:33:47.438800Z",
     "iopub.status.idle": "2023-07-19T06:34:02.952562Z",
     "shell.execute_reply": "2023-07-19T06:34:02.951275Z"
    },
    "papermill": {
     "duration": 15.53163,
     "end_time": "2023-07-19T06:34:02.955061",
     "exception": false,
     "start_time": "2023-07-19T06:33:47.423431",
     "status": "completed"
    },
    "tags": []
   },
   "outputs": [
    {
     "name": "stdout",
     "output_type": "stream",
     "text": [
      "Epoch: 1\n",
      "Batch 100, Loss: 0.452\n",
      "Batch 200, Loss: 0.130\n",
      "Batch 300, Loss: 0.070\n",
      "\n",
      "Val Loss: 0.841\n",
      "***************************************************\n",
      "\n",
      "Epoch: 2\n",
      "Batch 100, Loss: 0.018\n",
      "Batch 200, Loss: 0.015\n",
      "Batch 300, Loss: 0.010\n",
      "\n",
      "Val Loss: 0.364\n",
      "***************************************************\n",
      "\n",
      "Epoch: 3\n",
      "Batch 100, Loss: 0.008\n",
      "Batch 200, Loss: 0.005\n",
      "Batch 300, Loss: 0.004\n",
      "\n",
      "Val Loss: 0.140\n",
      "***************************************************\n",
      "\n",
      "Epoch: 4\n",
      "Batch 100, Loss: 0.003\n",
      "Batch 200, Loss: 0.002\n",
      "Batch 300, Loss: 0.002\n",
      "\n",
      "Val Loss: 0.052\n",
      "***************************************************\n",
      "\n",
      "Epoch: 5\n",
      "Batch 100, Loss: 0.001\n",
      "Batch 200, Loss: 0.001\n",
      "Batch 300, Loss: 0.001\n",
      "\n",
      "Val Loss: 0.022\n",
      "***************************************************\n",
      "\n",
      "Epoch: 6\n",
      "Batch 100, Loss: 0.000\n",
      "Batch 200, Loss: 0.000\n",
      "Batch 300, Loss: 0.000\n",
      "\n",
      "Val Loss: 0.010\n",
      "***************************************************\n",
      "\n",
      "Epoch: 7\n",
      "Batch 100, Loss: 0.000\n",
      "Batch 200, Loss: 0.000\n",
      "Batch 300, Loss: 0.000\n",
      "\n",
      "Val Loss: 0.007\n",
      "***************************************************\n",
      "\n",
      "Epoch: 8\n",
      "Batch 100, Loss: 0.000\n",
      "Batch 200, Loss: 0.000\n",
      "Batch 300, Loss: 0.000\n",
      "\n",
      "Val Loss: 0.006\n",
      "***************************************************\n",
      "\n",
      "Epoch: 9\n",
      "Batch 100, Loss: 0.000\n",
      "Batch 200, Loss: 0.000\n",
      "Batch 300, Loss: 0.000\n",
      "\n",
      "Val Loss: 0.005\n",
      "***************************************************\n",
      "\n",
      "Epoch: 10\n",
      "Batch 100, Loss: 0.000\n",
      "Batch 200, Loss: 0.000\n",
      "Batch 300, Loss: 0.000\n",
      "\n",
      "Val Loss: 0.004\n",
      "***************************************************\n",
      "\n",
      "Epoch: 11\n",
      "Batch 100, Loss: 0.000\n",
      "Batch 200, Loss: 0.000\n",
      "Batch 300, Loss: 0.000\n",
      "\n",
      "Val Loss: 0.005\n",
      "***************************************************\n",
      "\n",
      "Epoch: 12\n",
      "Batch 100, Loss: 0.000\n",
      "Batch 200, Loss: 0.000\n",
      "Batch 300, Loss: 0.000\n",
      "\n",
      "Val Loss: 0.005\n",
      "***************************************************\n",
      "\n",
      "Epoch: 13\n",
      "Batch 100, Loss: 0.000\n",
      "Batch 200, Loss: 0.000\n",
      "Batch 300, Loss: 0.000\n",
      "\n",
      "Val Loss: 0.004\n",
      "***************************************************\n",
      "\n",
      "Epoch: 14\n",
      "Batch 100, Loss: 0.000\n",
      "Batch 200, Loss: 0.000\n",
      "Batch 300, Loss: 0.000\n",
      "\n",
      "Val Loss: 0.004\n",
      "***************************************************\n",
      "\n",
      "Epoch: 15\n",
      "Batch 100, Loss: 0.000\n",
      "Batch 200, Loss: 0.000\n",
      "Batch 300, Loss: 0.000\n",
      "\n",
      "Val Loss: 0.004\n",
      "***************************************************\n",
      "\n",
      "Epoch: 16\n",
      "Batch 100, Loss: 0.000\n",
      "Batch 200, Loss: 0.000\n",
      "Batch 300, Loss: 0.000\n",
      "\n",
      "Val Loss: 0.004\n",
      "***************************************************\n",
      "\n",
      "Epoch: 17\n",
      "Batch 100, Loss: 0.000\n",
      "Batch 200, Loss: 0.000\n",
      "Batch 300, Loss: 0.000\n",
      "\n",
      "Val Loss: 0.003\n",
      "***************************************************\n",
      "\n",
      "Epoch: 18\n",
      "Batch 100, Loss: 0.000\n",
      "Batch 200, Loss: 0.000\n",
      "Batch 300, Loss: 0.000\n",
      "\n",
      "Val Loss: 0.003\n",
      "***************************************************\n",
      "\n",
      "Epoch: 19\n",
      "Batch 100, Loss: 0.000\n",
      "Batch 200, Loss: 0.000\n",
      "Batch 300, Loss: 0.000\n",
      "\n",
      "Val Loss: 0.004\n",
      "***************************************************\n",
      "\n",
      "Epoch: 20\n",
      "Batch 100, Loss: 0.000\n",
      "Batch 200, Loss: 0.000\n",
      "Batch 300, Loss: 0.000\n",
      "\n",
      "Val Loss: 0.003\n",
      "***************************************************\n",
      "\n"
     ]
    }
   ],
   "source": [
    "learning_rate = 0.001\n",
    "num_epochs = 20\n",
    "loss_function = nn.MSELoss()\n",
    "optimizer = torch.optim.Adam(model.parameters(), lr = learning_rate)\n",
    "\n",
    "for epoch in range(num_epochs):\n",
    "    train_one_epoch()\n",
    "    validate_one_epoch()"
   ]
  },
  {
   "cell_type": "code",
   "execution_count": 25,
   "id": "bcd228a0",
   "metadata": {
    "execution": {
     "iopub.execute_input": "2023-07-19T06:34:02.992400Z",
     "iopub.status.busy": "2023-07-19T06:34:02.991941Z",
     "iopub.status.idle": "2023-07-19T06:34:03.426968Z",
     "shell.execute_reply": "2023-07-19T06:34:03.425528Z"
    },
    "papermill": {
     "duration": 0.456897,
     "end_time": "2023-07-19T06:34:03.429709",
     "exception": false,
     "start_time": "2023-07-19T06:34:02.972812",
     "status": "completed"
    },
    "tags": []
   },
   "outputs": [
    {
     "data": {
      "image/png": "[encoded data removed]",
      "text/plain": [
       "<Figure size 640x480 with 1 Axes>"
      ]
     },
     "metadata": {},
     "output_type": "display_data"
    }
   ],
   "source": [
    "with torch.no_grad():\n",
    "    predicted = model(X_train.to(device)).to('cpu').numpy()\n",
    "    \n",
    "plt.plot(y_train, label=\"Actual Close\")\n",
    "plt.plot(predicted, label=\"Predicted Close\")\n",
    "plt.xlabel(\"Day\")\n",
    "plt.ylabel(\"Close\")\n",
    "plt.legend()\n",
    "plt.show()"
   ]
  },
  {
   "cell_type": "code",
   "execution_count": 26,
   "id": "790ea7bb",
   "metadata": {
    "execution": {
     "iopub.execute_input": "2023-07-19T06:34:03.470386Z",
     "iopub.status.busy": "2023-07-19T06:34:03.469318Z",
     "iopub.status.idle": "2023-07-19T06:34:03.479343Z",
     "shell.execute_reply": "2023-07-19T06:34:03.478235Z"
    },
    "papermill": {
     "duration": 0.033409,
     "end_time": "2023-07-19T06:34:03.481993",
     "exception": false,
     "start_time": "2023-07-19T06:34:03.448584",
     "status": "completed"
    },
    "tags": []
   },
   "outputs": [
    {
     "data": {
      "text/plain": [
       "array([2.97783260e+00, 2.95949080e+00, 2.94948618e+00, ...,\n",
       "       3.20670175e+03, 3.20854883e+03, 3.20411167e+03])"
      ]
     },
     "execution_count": 26,
     "metadata": {},
     "output_type": "execute_result"
    }
   ],
   "source": [
    "train_predictions = predicted.flatten()\n",
    "\n",
    "dummies = np.zeros((X_train.shape[0], lookback+1))\n",
    "dummies[:, 0] = train_predictions\n",
    "dummies = scaler.inverse_transform(dummies)\n",
    "\n",
    "train_predictions = dc(dummies[:, 0])\n",
    "train_predictions"
   ]
  },
  {
   "cell_type": "code",
   "execution_count": 27,
   "id": "b731f4aa",
   "metadata": {
    "execution": {
     "iopub.execute_input": "2023-07-19T06:34:03.521704Z",
     "iopub.status.busy": "2023-07-19T06:34:03.520722Z",
     "iopub.status.idle": "2023-07-19T06:34:03.531628Z",
     "shell.execute_reply": "2023-07-19T06:34:03.530436Z"
    },
    "papermill": {
     "duration": 0.033356,
     "end_time": "2023-07-19T06:34:03.534246",
     "exception": false,
     "start_time": "2023-07-19T06:34:03.500890",
     "status": "completed"
    },
    "tags": []
   },
   "outputs": [
    {
     "data": {
      "text/plain": [
       "array([1.58329953e+00, 1.53127550e+00, 1.50526348e+00, ...,\n",
       "       3.20652000e+03, 3.18527007e+03, 3.17268993e+03])"
      ]
     },
     "execution_count": 27,
     "metadata": {},
     "output_type": "execute_result"
    }
   ],
   "source": [
    "dummies = np.zeros((X_train.shape[0], lookback+1))\n",
    "dummies[:, 0] = y_train.flatten()\n",
    "dummies = scaler.inverse_transform(dummies)\n",
    "\n",
    "new_y_train = dc(dummies[:, 0])\n",
    "new_y_train"
   ]
  },
  {
   "cell_type": "code",
   "execution_count": 28,
   "id": "95e9bb70",
   "metadata": {
    "execution": {
     "iopub.execute_input": "2023-07-19T06:34:03.574127Z",
     "iopub.status.busy": "2023-07-19T06:34:03.573696Z",
     "iopub.status.idle": "2023-07-19T06:34:03.907019Z",
     "shell.execute_reply": "2023-07-19T06:34:03.905651Z"
    },
    "papermill": {
     "duration": 0.356976,
     "end_time": "2023-07-19T06:34:03.910076",
     "exception": false,
     "start_time": "2023-07-19T06:34:03.553100",
     "status": "completed"
    },
    "tags": []
   },
   "outputs": [
    {
     "data": {
      "image/png": "[encoded data removed]",
      "text/plain": [
       "<Figure size 640x480 with 1 Axes>"
      ]
     },
     "metadata": {},
     "output_type": "display_data"
    }
   ],
   "source": [
    "plt.plot(new_y_train, label=\"Actual Close\")\n",
    "plt.plot(train_predictions, label=\"Predicted Close\")\n",
    "plt.xlabel(\"Day\")\n",
    "plt.ylabel(\"Close\")\n",
    "plt.legend()\n",
    "plt.show()"
   ]
  },
  {
   "cell_type": "code",
   "execution_count": 29,
   "id": "cbb9dba0",
   "metadata": {
    "execution": {
     "iopub.execute_input": "2023-07-19T06:34:03.954328Z",
     "iopub.status.busy": "2023-07-19T06:34:03.953004Z",
     "iopub.status.idle": "2023-07-19T06:34:03.973257Z",
     "shell.execute_reply": "2023-07-19T06:34:03.971892Z"
    },
    "papermill": {
     "duration": 0.046341,
     "end_time": "2023-07-19T06:34:03.975965",
     "exception": false,
     "start_time": "2023-07-19T06:34:03.929624",
     "status": "completed"
    },
    "tags": []
   },
   "outputs": [
    {
     "data": {
      "text/plain": [
       "array([3197.42379949, 3216.56919901, 3238.19252097, 3246.37385578,\n",
       "       3246.55260502, 3231.76910931, 3227.81772846, 3205.89960366,\n",
       "       3193.80257115, 3189.48246442, 3171.62999548, 3161.36769939,\n",
       "       3165.27083572, 3159.2402722 , 3150.39018402, 3147.71005708,\n",
       "       3179.17692613, 3211.36234933, 3230.78165316, 3244.9689846 ,\n",
       "       3261.85456245, 3253.62231523, 3247.75015822, 3234.47080176,\n",
       "       3253.44401064, 3273.76595366, 3274.71161272, 3280.17102351,\n",
       "       3289.07402503, 3288.98342762, 3284.86018961, 3276.60048526,\n",
       "       3265.60562854, 3261.50239978, 3256.27409574, 3260.89689785,\n",
       "       3268.62202193, 3258.43898467, 3237.1968388 , 3224.86180746,\n",
       "       3207.29624883, 3170.52170574, 3151.45345296, 3150.60750663,\n",
       "       3139.50237676, 3110.99465242, 3083.35844178, 3069.3151769 ,\n",
       "       3046.84590862, 3059.17249161, 3068.09027774, 3091.17838744,\n",
       "       3103.18248814, 3109.93049418, 3116.47318316, 3131.05113948,\n",
       "       3113.6456548 , 3112.1943177 , 3119.18721465, 3131.08326543,\n",
       "       3127.72160144, 3115.36656086, 3107.5711821 , 3108.03228399,\n",
       "       3102.31675489, 3107.72892164, 3128.57321706, 3160.03986379,\n",
       "       3182.03758091, 3209.77428241, 3232.81726015, 3263.47142045,\n",
       "       3284.62385822, 3302.17896758, 3300.51708878, 3308.28990156,\n",
       "       3316.26503001, 3315.74556783, 3307.57857297, 3307.27232039,\n",
       "       3296.43964971, 3295.6371679 , 3307.50942992, 3317.06250951,\n",
       "       3332.03831628, 3345.00841876, 3353.26267615, 3344.72895633,\n",
       "       3324.53118179, 3301.20473977, 3290.75502376, 3279.03594362,\n",
       "       3249.68583015, 3236.82411107, 3212.91439962, 3198.73762861,\n",
       "       3202.43322464, 3215.56962616, 3217.80421396, 3220.93721676,\n",
       "       3226.64363055, 3221.27592878, 3225.89995368, 3231.01831804,\n",
       "       3235.73894312, 3232.13372218, 3228.21068776, 3224.29621285,\n",
       "       3224.8465782 , 3214.23967848, 3210.95605054, 3206.86349337,\n",
       "       3219.01310572, 3231.26131918, 3254.57686728, 3270.26956077,\n",
       "       3289.1425011 , 3301.59403071, 3316.03047722, 3338.57355737,\n",
       "       3352.58225073, 3355.82574902, 3367.39676077, 3374.26582273,\n",
       "       3369.23883391, 3357.03063894, 3355.61153896, 3354.89354062,\n",
       "       3352.87238475, 3349.88300385, 3362.24604813, 3398.52347269,\n",
       "       3424.78049067, 3447.12859187, 3460.35069966, 3469.46813356,\n",
       "       3469.59152389, 3469.53838824, 3460.72242693, 3446.08166381,\n",
       "       3432.23615695, 3426.31119776, 3423.68743019, 3430.22822941,\n",
       "       3437.32428512, 3449.24190142, 3446.77242735, 3446.61602176,\n",
       "       3441.69341449, 3394.00349586, 3360.96879145, 3341.93611066,\n",
       "       3324.51595253, 3316.65354281, 3305.8656706 , 3300.11590346,\n",
       "       3294.6380397 , 3284.7882675 , 3279.70047281, 3274.00284086,\n",
       "       3270.96543777, 3257.44130158, 3239.53236211, 3223.93838089,\n",
       "       3215.3175097 , 3223.37056304, 3237.91861666, 3247.5911959 ,\n",
       "       3259.21167494, 3274.62935249, 3299.18302808, 3324.35832416,\n",
       "       3342.04894056, 3351.12202064, 3360.18098309, 3371.2824446 ,\n",
       "       3380.63587641, 3378.99956498, 3375.219152  , 3370.58023133,\n",
       "       3366.04558105, 3366.98390339, 3369.21526747, 3366.29258404,\n",
       "       3345.84424931, 3329.87831849, 3325.16703106, 3327.85416124,\n",
       "       3330.96615434, 3329.93923552, 3313.45328672, 3300.35790414,\n",
       "       3287.26618992, 3276.51244459, 3248.64879555, 3235.66902193,\n",
       "       3235.71126367, 3245.39751589, 3249.85613104, 3245.00789146,\n",
       "       3242.54241923, 3249.03397348, 3255.80554597, 3282.11080846,\n",
       "       3306.99107936, 3324.09764819, 3331.11266646, 3339.63115703,\n",
       "       3326.13203239, 3313.22129066, 3313.13536208, 3315.22543867,\n",
       "       3327.03367111, 3321.70798876, 3308.65951674, 3299.53841447,\n",
       "       3306.42759684, 3327.36660268, 3348.61141645, 3357.99986444,\n",
       "       3381.07430116, 3380.6960153 , 3379.11895347, 3385.88641294,\n",
       "       3392.33127895, 3395.34355933, 3399.0016936 , 3424.68533561,\n",
       "       3438.42034699, 3432.04417938, 3429.55725279, 3427.74030237,\n",
       "       3413.97805618, 3413.38400399, 3402.24997188, 3384.68641417,\n",
       "       3372.4903359 , 3355.15132637, 3349.95859432, 3363.4883998 ,\n",
       "       3371.87171681, 3371.97987788, 3366.56259766, 3353.86184182,\n",
       "       3343.35932365, 3350.17736204, 3336.93602315, 3332.87136776,\n",
       "       3319.55499421, 3323.80173372, 3328.9416636 , 3332.40915425,\n",
       "       3329.42055148, 3332.2209562 , 3328.5001263 , 3324.11376674,\n",
       "       3312.83311134, 3319.01952463, 3311.87944859, 3295.07991048,\n",
       "       3278.86908876, 3264.54046984, 3249.61924384, 3255.28864052,\n",
       "       3258.12772978, 3244.96120323, 3240.86720094, 3224.03798246,\n",
       "       3200.09414413, 3160.30420812, 3083.9281494 , 3034.8318033 ,\n",
       "       2972.50478991, 2919.72118497, 2888.09012897, 2895.66218234,\n",
       "       2939.50943702, 2984.13227219, 3014.03786447, 2970.93884432,\n",
       "       3037.86809476, 3084.88481354, 3133.92991374, 3166.41881046,\n",
       "       3179.36590231, 3161.8236878 , 3157.00112675, 3153.76240844,\n",
       "       3158.32207027, 3145.24225044, 3127.1422227 , 3102.9341512 ,\n",
       "       3057.43668978, 3056.26036862, 3068.1380776 , 3077.70560831,\n",
       "       3074.91754262, 3078.67805752, 3060.16117054, 3033.52230951,\n",
       "       2964.97686804, 2901.76388983, 2873.20814331, 2900.50953262,\n",
       "       2919.1018989 , 2916.11607519, 2946.55469148, 3000.43257968,\n",
       "       3059.40704441, 3118.96055439, 3160.04886795, 3203.3593191 ,\n",
       "       3225.57057931])"
      ]
     },
     "execution_count": 29,
     "metadata": {},
     "output_type": "execute_result"
    }
   ],
   "source": [
    "test_predictions = model(X_test.to(device)).detach().cpu().numpy().flatten()\n",
    "\n",
    "dummies = np.zeros((X_test.shape[0], lookback+1))\n",
    "dummies[:, 0] = test_predictions\n",
    "dummies = scaler.inverse_transform(dummies)\n",
    "\n",
    "test_predictions = dc(dummies[:, 0])\n",
    "test_predictions"
   ]
  },
  {
   "cell_type": "code",
   "execution_count": 30,
   "id": "d2937346",
   "metadata": {
    "execution": {
     "iopub.execute_input": "2023-07-19T06:34:04.018969Z",
     "iopub.status.busy": "2023-07-19T06:34:04.018099Z",
     "iopub.status.idle": "2023-07-19T06:34:04.031767Z",
     "shell.execute_reply": "2023-07-19T06:34:04.030417Z"
    },
    "papermill": {
     "duration": 0.038847,
     "end_time": "2023-07-19T06:34:04.034804",
     "exception": false,
     "start_time": "2023-07-19T06:34:03.995957",
     "status": "completed"
    },
    "tags": []
   },
   "outputs": [
    {
     "data": {
      "text/plain": [
       "array([3283.959996  , 3322.00001254, 3285.85009133, 3256.92995426,\n",
       "       3186.6299245 , 3218.50998442, 3138.37985822, 3162.15995425,\n",
       "       3182.69999801, 3114.20991545, 3120.83008466, 3165.88989947,\n",
       "       3127.46992963, 3104.24998125, 3120.76005231, 3263.37993375,\n",
       "       3306.98996773, 3292.2299273 , 3293.99996717, 3326.1299203 ,\n",
       "       3232.58003946, 3237.62014545, 3206.19996463, 3342.87987995,\n",
       "       3380.00002713, 3312.53008248, 3330.99994773, 3352.14993992,\n",
       "       3322.93989115, 3305.00004852, 3286.58009521, 3262.12991187,\n",
       "       3277.70999778, 3268.94995119, 3308.63984098, 3328.23000152,\n",
       "       3249.89992905, 3180.7399815 , 3194.50000443, 3159.53007274,\n",
       "       3057.15989525, 3092.92997434, 3146.13988731, 3094.53004681,\n",
       "       3005.00002289, 2977.57001862, 3000.45992565, 2951.94996153,\n",
       "       3062.85007932, 3057.63989476, 3113.59007357, 3089.48994082,\n",
       "       3081.67988862, 3091.86014681, 3135.72996747, 3027.98997614,\n",
       "       3074.96000668, 3110.87015047, 3137.50000734, 3087.0700452 ,\n",
       "       3046.25997128, 3052.03008116, 3075.73002905, 3055.29003149,\n",
       "       3094.08006116, 3160.99997396, 3226.73000378, 3223.82010403,\n",
       "       3279.38988489, 3299.30008216, 3372.19997956, 3379.38985638,\n",
       "       3400.00004366, 3332.99998273, 3379.09005123, 3399.43989602,\n",
       "       3372.01000291, 3334.68998563, 3362.02005485, 3309.04002584,\n",
       "       3340.87984495, 3408.99997885, 3417.42998409, 3458.49995584,\n",
       "       3471.31009554, 3467.41996521, 3386.4900251 , 3311.87011094,\n",
       "       3270.54001903, 3306.37012585, 3291.61008542, 3190.49004097,\n",
       "       3223.9099233 , 3151.93989989, 3161.46996885, 3222.89990118,\n",
       "       3270.38983855, 3232.28001198, 3231.80001247, 3247.67990354,\n",
       "       3203.080079  , 3244.9899943 , 3259.05004472, 3265.15986708,\n",
       "       3230.11012074, 3223.07009091, 3218.64993796, 3233.99002412,\n",
       "       3187.00998896, 3206.21997388, 3198.00995914, 3264.11015995,\n",
       "       3281.14992014, 3349.64989617, 3346.83003801, 3383.87014822,\n",
       "       3383.12991739, 3415.24997706, 3489.24004472, 3486.89985259,\n",
       "       3453.95996976, 3505.43997251, 3503.82011313, 3449.08004888,\n",
       "       3401.45994027, 3443.88987357, 3448.13994794, 3440.15992834,\n",
       "       3432.96994035, 3510.97997609, 3675.73997376, 3696.58004501,\n",
       "       3731.409912  , 3719.34011429, 3718.55008268, 3677.36005547,\n",
       "       3681.67993987, 3631.19995462, 3573.62991643, 3549.59003374,\n",
       "       3573.18993541, 3585.19992772, 3638.02999856, 3656.63992852,\n",
       "       3699.82009727, 3626.38984376, 3630.32010374, 3599.91994967,\n",
       "       3327.59003923, 3331.47994723, 3366.2400042 , 3354.72001602,\n",
       "       3375.98995251, 3344.93994269, 3341.87008016, 3320.67995832,\n",
       "       3292.11009417, 3303.50002227, 3293.9699533 , 3298.98993889,\n",
       "       3241.95992794, 3201.21999754, 3187.74999746, 3199.94996642,\n",
       "       3265.87008404, 3305.78007551, 3299.17991554, 3316.0000187 ,\n",
       "       3349.62988692, 3421.5701188 , 3470.79007755, 3478.99998112,\n",
       "       3463.12009005, 3478.05009789, 3509.29008436, 3525.50001677,\n",
       "       3484.15992024, 3469.14987543, 3457.16989699, 3450.00002941,\n",
       "       3475.79005389, 3488.24002722, 3462.52003509, 3355.72992698,\n",
       "       3343.62989308, 3380.05005024, 3415.99999019, 3425.52005453,\n",
       "       3405.80005624, 3315.96000022, 3301.12014513, 3285.04005047,\n",
       "       3283.26000598, 3189.78004633, 3221.00002355, 3262.00996757,\n",
       "       3302.42997241, 3288.6201487 , 3246.30004391, 3247.33007527,\n",
       "       3284.28003273, 3299.86011864, 3409.01998809, 3446.73996791,\n",
       "       3444.14988256, 3415.06011158, 3435.00999384, 3335.55004959,\n",
       "       3320.37014854, 3376.07010064, 3392.49001895, 3446.57011167,\n",
       "       3372.42997469, 3318.11010454, 3312.74996182, 3383.99998597,\n",
       "       3476.99994612, 3518.99000956, 3488.97992456, 3576.2300064 ,\n",
       "       3482.05005673, 3472.49997853, 3525.14985502, 3545.67989417,\n",
       "       3540.69992707, 3548.99998339, 3696.06002702, 3676.57002386,\n",
       "       3572.57009353, 3580.0399886 , 3580.40993727, 3504.56001047,\n",
       "       3561.57012334, 3507.07005885, 3443.72001732, 3437.36007943,\n",
       "       3389.78999393, 3427.37013137, 3523.28999588, 3523.1599358 ,\n",
       "       3483.41991174, 3444.24003532, 3391.35004791, 3381.83009473,\n",
       "       3466.30000342, 3377.41994641, 3400.35009425, 3341.5800573 ,\n",
       "       3408.34011848, 3420.73995753, 3421.37013753, 3393.38987907,\n",
       "       3413.2199282 , 3384.01999522, 3372.88985379, 3334.3400462 ,\n",
       "       3408.0901141 , 3350.43992778, 3287.13990936, 3265.08005243,\n",
       "       3251.08002974, 3229.7199405 , 3307.23997211, 3304.13987339,\n",
       "       3224.27998313, 3242.75996417, 3178.35009974, 3125.98001917,\n",
       "       3033.35011885, 2852.86007712, 2890.87986209, 2799.71997417,\n",
       "       2777.4499646 , 2792.74997669, 2879.56007751, 2991.46999509,\n",
       "       3023.870073  , 3012.25003861, 2776.90993736, 3152.79007039,\n",
       "       3158.7099161 , 3228.27004852, 3223.79009017, 3180.07011651,\n",
       "       3065.87014106, 3103.34011651, 3130.20997314, 3162.00999609,\n",
       "       3093.0500298 , 3052.03008116, 3003.94998228, 2896.54003229,\n",
       "       3027.15992604, 3075.77004753, 3071.25996416, 3022.84004164,\n",
       "       3041.05000905, 2957.96996462, 2912.82010822, 2749.06007247,\n",
       "       2720.29006031, 2785.58005352, 2936.35008871, 2910.49003187,\n",
       "       2837.06011186, 2947.33004965, 3062.08005695, 3144.78003693,\n",
       "       3225.00998702, 3229.8301025 , 3297.78004666, 3268.15991958,\n",
       "       3272.99003968])"
      ]
     },
     "execution_count": 30,
     "metadata": {},
     "output_type": "execute_result"
    }
   ],
   "source": [
    "dummies = np.zeros((X_test.shape[0], lookback+1))\n",
    "dummies[:, 0] = y_test.flatten()\n",
    "dummies = scaler.inverse_transform(dummies)\n",
    "\n",
    "new_y_test = dc(dummies[:, 0])\n",
    "new_y_test"
   ]
  },
  {
   "cell_type": "code",
   "execution_count": 31,
   "id": "25fcf848",
   "metadata": {
    "execution": {
     "iopub.execute_input": "2023-07-19T06:34:04.078112Z",
     "iopub.status.busy": "2023-07-19T06:34:04.077672Z",
     "iopub.status.idle": "2023-07-19T06:34:04.378813Z",
     "shell.execute_reply": "2023-07-19T06:34:04.377835Z"
    },
    "papermill": {
     "duration": 0.325216,
     "end_time": "2023-07-19T06:34:04.381226",
     "exception": false,
     "start_time": "2023-07-19T06:34:04.056010",
     "status": "completed"
    },
    "tags": []
   },
   "outputs": [
    {
     "data": {
      "image/png": "[encoded data removed]",
      "text/plain": [
       "<Figure size 640x480 with 1 Axes>"
      ]
     },
     "metadata": {},
     "output_type": "display_data"
    }
   ],
   "source": [
    "plt.plot(new_y_test, label='Actual Close')\n",
    "plt.plot(test_predictions, label='Predicted Close')\n",
    "plt.xlabel('Day')\n",
    "plt.ylabel('Close')\n",
    "plt.legend()\n",
    "plt.show()"
   ]
  }
 ],
 "metadata": {
  "kernelspec": {
   "display_name": "Python 3",
   "language": "python",
   "name": "python3"
  },
  "language_info": {
   "codemirror_mode": {
    "name": "ipython",
    "version": 3
   },
   "file_extension": ".py",
   "mimetype": "text/x-python",
   "name": "python",
   "nbconvert_exporter": "python",
   "pygments_lexer": "ipython3",
   "version": "3.10.12"
  },
  "papermill": {
   "default_parameters": {},
   "duration": 37.637837,
   "end_time": "2023-07-19T06:34:05.927369",
   "environment_variables": {},
   "exception": null,
   "input_path": "__notebook__.ipynb",
   "output_path": "__notebook__.ipynb",
   "parameters": {},
   "start_time": "2023-07-19T06:33:28.289532",
   "version": "2.4.0"
  }
 },
 "nbformat": 4,
 "nbformat_minor": 5
}
